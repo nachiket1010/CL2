{
 "cells": [
  {
   "cell_type": "code",
   "execution_count": 1,
   "id": "f00cbb77-e6ea-4dc7-8230-a74e8ed7ee34",
   "metadata": {},
   "outputs": [
    {
     "name": "stdout",
     "output_type": "stream",
     "text": [
      "Requirement already satisfied: biopython in c:\\users\\prana\\appdata\\local\\programs\\python\\python312\\lib\\site-packages (1.84)\n",
      "Requirement already satisfied: numpy in c:\\users\\prana\\appdata\\local\\programs\\python\\python312\\lib\\site-packages (from biopython) (1.26.4)\n"
     ]
    },
    {
     "name": "stderr",
     "output_type": "stream",
     "text": [
      "\n",
      "[notice] A new release of pip is available: 24.0 -> 24.3.1\n",
      "[notice] To update, run: python.exe -m pip install --upgrade pip\n"
     ]
    },
    {
     "name": "stdout",
     "output_type": "stream",
     "text": [
      "FASTA file saved as target_protein.fasta\n"
     ]
    }
   ],
   "source": [
    "!pip install biopython\n",
    " # Example code to use BioPython for handling protein sequences and submitting to external servers\n",
    "from Bio import SeqIO\n",
    "from Bio.Seq import Seq\n",
    "from Bio.SeqRecord import SeqRecord\n",
    "import requests\n",
    " # Step 1: Define the protein sequence\n",
    "protein_sequence =\"MLPQKVTKYLKTVKAGKETLERKFKSIEDSGCKVYIAKLESGHFAFEQQNSAYPVNCSEKNLISYAKKETVIK\"\n",
    " # Step 2: Create a SeqRecord object\n",
    "record = SeqRecord(Seq(protein_sequence), id=\"target_protein\", description=\"Protein sequence forstructure prediction\")\n",
    " # Step 3: Save the protein sequence to a FASTA file (I-TASSER/Phyre2 submission requires this)\n",
    "fasta_file = \"target_protein.fasta\"\n",
    "SeqIO.write(record, fasta_file, \"fasta\")\n",
    "print(f\"FASTA file saved as {fasta_file}\")\n",
    "# Step 4: Manually upload to I-TASSER or Phyre2\n",
    " # I-TASSER submission page: https://zhanggroup.org/I-TASSER/\n",
    " # Phyre2 submission page: http://www.sbg.bio.ic.ac.uk/phyre2/html/page.cgi?id=index\n",
    " # You can manually submit this FASTA file to these servers via their web interfaces\n",
    " # There is no direct API for these services available without authentication"
   ]
  },
  {
   "cell_type": "code",
   "execution_count": 2,
   "id": "d1cbb670-b403-491d-a4cc-7d8f9f51e4e1",
   "metadata": {},
   "outputs": [],
   "source": [
    "#go to google and open https://swissmodel.expasy.org/"
   ]
  },
  {
   "cell_type": "code",
   "execution_count": 3,
   "id": "ef5f62d3-04f4-4acc-8386-998bb13cba64",
   "metadata": {},
   "outputs": [],
   "source": [
    "#Website is SWISSMODEl"
   ]
  },
  {
   "cell_type": "code",
   "execution_count": null,
   "id": "b1ed60b7-7089-47ff-98fc-9f5cf30dccb9",
   "metadata": {},
   "outputs": [],
   "source": [
    "#go to website and paste the obtained file and generate template and Select 3 model and compare \n",
    "#recall ensamble Variance concept"
   ]
  }
 ],
 "metadata": {
  "kernelspec": {
   "display_name": "Python 3 (ipykernel)",
   "language": "python",
   "name": "python3"
  },
  "language_info": {
   "codemirror_mode": {
    "name": "ipython",
    "version": 3
   },
   "file_extension": ".py",
   "mimetype": "text/x-python",
   "name": "python",
   "nbconvert_exporter": "python",
   "pygments_lexer": "ipython3",
   "version": "3.12.1"
  }
 },
 "nbformat": 4,
 "nbformat_minor": 5
}
